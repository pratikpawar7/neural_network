{
 "cells": [
  {
   "cell_type": "code",
   "execution_count": 7,
   "id": "524db6b8-e52f-4acd-b2d9-9eb4ddc15d10",
   "metadata": {},
   "outputs": [
    {
     "name": "stdout",
     "output_type": "stream",
     "text": [
      "TensorFlow version: 2.17.0\n",
      "Keras version: 3.6.0\n"
     ]
    }
   ],
   "source": [
    "import tensorflow as tf\n",
    "import keras\n",
    "\n",
    "# Print TensorFlow and Keras versions\n",
    "print(f\"TensorFlow version: {tf.__version__}\")\n",
    "print(f\"Keras version: {keras.__version__}\")\n"
   ]
  },
  {
   "cell_type": "code",
   "execution_count": 13,
   "id": "591872b2-7f7d-47fa-b979-0258605ad408",
   "metadata": {},
   "outputs": [
    {
     "name": "stdout",
     "output_type": "stream",
     "text": [
      "Dataset dimensions: (1599, 12)\n"
     ]
    }
   ],
   "source": [
    "import pandas as pd\n",
    "\n",
    "# Load the Wine Quality dataset\n",
    "wine_data = pd.read_csv('Wine.csv')\n",
    "\n",
    "# Explore the dimensions of the dataset\n",
    "print(f\"Dataset dimensions: {wine_data.shape}\")\n"
   ]
  },
  {
   "cell_type": "code",
   "execution_count": 14,
   "id": "d925a532-e77c-4865-9024-af9aba1dca82",
   "metadata": {},
   "outputs": [
    {
     "name": "stdout",
     "output_type": "stream",
     "text": [
      "fixed acidity           0\n",
      "volatile acidity        0\n",
      "citric acid             0\n",
      "residual sugar          0\n",
      "chlorides               0\n",
      "free sulfur dioxide     0\n",
      "total sulfur dioxide    0\n",
      "density                 0\n",
      "pH                      0\n",
      "sulphates               0\n",
      "alcohol                 0\n",
      "quality                 0\n",
      "dtype: int64\n",
      "Categorical columns: Index(['quality'], dtype='object')\n"
     ]
    }
   ],
   "source": [
    "# Check for null values\n",
    "print(wine_data.isnull().sum())\n",
    "\n",
    "# Identify categorical variables (if any)\n",
    "categorical_cols = wine_data.select_dtypes(include=['object']).columns\n",
    "print(f\"Categorical columns: {categorical_cols}\")\n",
    "\n",
    "# Encode categorical variables if present\n",
    "wine_data = pd.get_dummies(wine_data, columns=categorical_cols, drop_first=True)\n"
   ]
  },
  {
   "cell_type": "code",
   "execution_count": 15,
   "id": "d3719121-0621-4efc-9519-99958c58f276",
   "metadata": {},
   "outputs": [],
   "source": [
    "df = wine_data"
   ]
  },
  {
   "cell_type": "code",
   "execution_count": 20,
   "id": "3c26598f-c4f4-401b-9471-f8dcca1bfb06",
   "metadata": {},
   "outputs": [
    {
     "name": "stdout",
     "output_type": "stream",
     "text": [
      "Index(['fixed acidity', 'volatile acidity', 'citric acid', 'residual sugar',\n",
      "       'chlorides', 'free sulfur dioxide', 'total sulfur dioxide', 'density',\n",
      "       'pH', 'sulphates', 'alcohol', 'quality_good'],\n",
      "      dtype='object')\n"
     ]
    }
   ],
   "source": [
    "print(df.columns)"
   ]
  },
  {
   "cell_type": "code",
   "execution_count": 21,
   "id": "bd200f0b-3269-47ed-9c2c-bdd226a387ab",
   "metadata": {},
   "outputs": [],
   "source": [
    "# Separate the features and target\n",
    "y = wine_data['quality_good']\n",
    "# Assuming 'quality' is the target\n",
    "\n"
   ]
  },
  {
   "cell_type": "code",
   "execution_count": 22,
   "id": "843d9d40-d915-438c-b3c5-a7d54a2a366c",
   "metadata": {},
   "outputs": [],
   "source": [
    "X = df.drop(columns=['quality_good'])  "
   ]
  },
  {
   "cell_type": "code",
   "execution_count": 23,
   "id": "69a6cdf1-b5e8-4372-892a-25a1e6ceb87c",
   "metadata": {},
   "outputs": [],
   "source": [
    "from sklearn.model_selection import train_test_split\n",
    "\n",
    "# Split the data into training, validation, and test sets\n",
    "X_train, X_test, y_train, y_test = train_test_split(X, y, test_size=0.2, random_state=42)\n",
    "X_train, X_val, y_train, y_val = train_test_split(X_train, y_train, test_size=0.2, random_state=42)\n"
   ]
  },
  {
   "cell_type": "code",
   "execution_count": 24,
   "id": "f4b4ab44-6358-4898-8ff6-e5b1628bee66",
   "metadata": {},
   "outputs": [],
   "source": [
    "from sklearn.preprocessing import StandardScaler\n",
    "\n",
    "# Initialize the scaler\n",
    "scaler = StandardScaler()\n",
    "\n",
    "# Fit and transform the training data\n",
    "X_train = scaler.fit_transform(X_train)\n",
    "X_val = scaler.transform(X_val)\n",
    "X_test = scaler.transform(X_test)\n"
   ]
  },
  {
   "cell_type": "code",
   "execution_count": 25,
   "id": "9a3cd542-a5ee-4c0a-a3bf-89cbfeb1941e",
   "metadata": {},
   "outputs": [
    {
     "name": "stderr",
     "output_type": "stream",
     "text": [
      "C:\\Users\\Pratik\\AppData\\Local\\Programs\\Python\\Python310\\lib\\site-packages\\keras\\src\\layers\\core\\dense.py:87: UserWarning: Do not pass an `input_shape`/`input_dim` argument to a layer. When using Sequential models, prefer using an `Input(shape)` object as the first layer in the model instead.\n",
      "  super().__init__(activity_regularizer=activity_regularizer, **kwargs)\n"
     ]
    }
   ],
   "source": [
    "from tensorflow.keras.models import Sequential\n",
    "from tensorflow.keras.layers import Dense\n",
    "\n",
    "# Define a neural network architecture with 2 hidden layers\n",
    "model = Sequential([\n",
    "    Dense(64, activation='relu', input_shape=(X_train.shape[1],)),\n",
    "    Dense(32, activation='relu'),\n",
    "    Dense(1, activation='sigmoid')  # Output layer for binary classification\n",
    "])\n"
   ]
  },
  {
   "cell_type": "code",
   "execution_count": 26,
   "id": "cffdc717-3619-4295-b53b-da68b33dfa70",
   "metadata": {},
   "outputs": [],
   "source": [
    "from tensorflow.keras.callbacks import TensorBoard\n",
    "import datetime\n",
    "\n",
    "# Define the TensorBoard callback\n",
    "log_dir = \"logs/fit/\" + datetime.datetime.now().strftime(\"%Y%m%d-%H%M%S\")\n",
    "tensorboard_callback = TensorBoard(log_dir=log_dir, histogram_freq=1)\n"
   ]
  },
  {
   "cell_type": "code",
   "execution_count": 27,
   "id": "154724ca-78af-4540-9677-2bb7c535f890",
   "metadata": {},
   "outputs": [],
   "source": [
    "from tensorflow.keras.callbacks import EarlyStopping\n",
    "\n",
    "# Define Early Stopping callback\n",
    "early_stopping = EarlyStopping(monitor='val_loss', patience=5, restore_best_weights=True)\n"
   ]
  },
  {
   "cell_type": "code",
   "execution_count": 35,
   "id": "89eb030f-8965-47ed-94a3-f7e7ae8dd203",
   "metadata": {},
   "outputs": [],
   "source": [
    "from tensorflow.keras.callbacks import ModelCheckpoint\n",
    "\n",
    "# Define ModelCheckpoint callback\n",
    "checkpoint = ModelCheckpoint('best_model.keras', monitor='val_loss', save_best_only=True, mode='min')\n"
   ]
  },
  {
   "cell_type": "code",
   "execution_count": 36,
   "id": "13abf361-7e02-427a-84b4-956eba9e3021",
   "metadata": {},
   "outputs": [],
   "source": [
    "model.compile(optimizer='adam', loss='binary_crossentropy', metrics=['accuracy'])\n"
   ]
  },
  {
   "cell_type": "code",
   "execution_count": 37,
   "id": "68288cd8-15cd-4121-9e4c-4156e3441fe5",
   "metadata": {},
   "outputs": [
    {
     "data": {
      "text/html": [
       "<pre style=\"white-space:pre;overflow-x:auto;line-height:normal;font-family:Menlo,'DejaVu Sans Mono',consolas,'Courier New',monospace\"><span style=\"font-weight: bold\">Model: \"sequential\"</span>\n",
       "</pre>\n"
      ],
      "text/plain": [
       "\u001b[1mModel: \"sequential\"\u001b[0m\n"
      ]
     },
     "metadata": {},
     "output_type": "display_data"
    },
    {
     "data": {
      "text/html": [
       "<pre style=\"white-space:pre;overflow-x:auto;line-height:normal;font-family:Menlo,'DejaVu Sans Mono',consolas,'Courier New',monospace\">┏━━━━━━━━━━━━━━━━━━━━━━━━━━━━━━━━━━━━━━┳━━━━━━━━━━━━━━━━━━━━━━━━━━━━━┳━━━━━━━━━━━━━━━━━┓\n",
       "┃<span style=\"font-weight: bold\"> Layer (type)                         </span>┃<span style=\"font-weight: bold\"> Output Shape                </span>┃<span style=\"font-weight: bold\">         Param # </span>┃\n",
       "┡━━━━━━━━━━━━━━━━━━━━━━━━━━━━━━━━━━━━━━╇━━━━━━━━━━━━━━━━━━━━━━━━━━━━━╇━━━━━━━━━━━━━━━━━┩\n",
       "│ dense (<span style=\"color: #0087ff; text-decoration-color: #0087ff\">Dense</span>)                        │ (<span style=\"color: #00d7ff; text-decoration-color: #00d7ff\">None</span>, <span style=\"color: #00af00; text-decoration-color: #00af00\">64</span>)                  │             <span style=\"color: #00af00; text-decoration-color: #00af00\">768</span> │\n",
       "├──────────────────────────────────────┼─────────────────────────────┼─────────────────┤\n",
       "│ dense_1 (<span style=\"color: #0087ff; text-decoration-color: #0087ff\">Dense</span>)                      │ (<span style=\"color: #00d7ff; text-decoration-color: #00d7ff\">None</span>, <span style=\"color: #00af00; text-decoration-color: #00af00\">32</span>)                  │           <span style=\"color: #00af00; text-decoration-color: #00af00\">2,080</span> │\n",
       "├──────────────────────────────────────┼─────────────────────────────┼─────────────────┤\n",
       "│ dense_2 (<span style=\"color: #0087ff; text-decoration-color: #0087ff\">Dense</span>)                      │ (<span style=\"color: #00d7ff; text-decoration-color: #00d7ff\">None</span>, <span style=\"color: #00af00; text-decoration-color: #00af00\">1</span>)                   │              <span style=\"color: #00af00; text-decoration-color: #00af00\">33</span> │\n",
       "└──────────────────────────────────────┴─────────────────────────────┴─────────────────┘\n",
       "</pre>\n"
      ],
      "text/plain": [
       "┏━━━━━━━━━━━━━━━━━━━━━━━━━━━━━━━━━━━━━━┳━━━━━━━━━━━━━━━━━━━━━━━━━━━━━┳━━━━━━━━━━━━━━━━━┓\n",
       "┃\u001b[1m \u001b[0m\u001b[1mLayer (type)                        \u001b[0m\u001b[1m \u001b[0m┃\u001b[1m \u001b[0m\u001b[1mOutput Shape               \u001b[0m\u001b[1m \u001b[0m┃\u001b[1m \u001b[0m\u001b[1m        Param #\u001b[0m\u001b[1m \u001b[0m┃\n",
       "┡━━━━━━━━━━━━━━━━━━━━━━━━━━━━━━━━━━━━━━╇━━━━━━━━━━━━━━━━━━━━━━━━━━━━━╇━━━━━━━━━━━━━━━━━┩\n",
       "│ dense (\u001b[38;5;33mDense\u001b[0m)                        │ (\u001b[38;5;45mNone\u001b[0m, \u001b[38;5;34m64\u001b[0m)                  │             \u001b[38;5;34m768\u001b[0m │\n",
       "├──────────────────────────────────────┼─────────────────────────────┼─────────────────┤\n",
       "│ dense_1 (\u001b[38;5;33mDense\u001b[0m)                      │ (\u001b[38;5;45mNone\u001b[0m, \u001b[38;5;34m32\u001b[0m)                  │           \u001b[38;5;34m2,080\u001b[0m │\n",
       "├──────────────────────────────────────┼─────────────────────────────┼─────────────────┤\n",
       "│ dense_2 (\u001b[38;5;33mDense\u001b[0m)                      │ (\u001b[38;5;45mNone\u001b[0m, \u001b[38;5;34m1\u001b[0m)                   │              \u001b[38;5;34m33\u001b[0m │\n",
       "└──────────────────────────────────────┴─────────────────────────────┴─────────────────┘\n"
      ]
     },
     "metadata": {},
     "output_type": "display_data"
    },
    {
     "data": {
      "text/html": [
       "<pre style=\"white-space:pre;overflow-x:auto;line-height:normal;font-family:Menlo,'DejaVu Sans Mono',consolas,'Courier New',monospace\"><span style=\"font-weight: bold\"> Total params: </span><span style=\"color: #00af00; text-decoration-color: #00af00\">2,881</span> (11.25 KB)\n",
       "</pre>\n"
      ],
      "text/plain": [
       "\u001b[1m Total params: \u001b[0m\u001b[38;5;34m2,881\u001b[0m (11.25 KB)\n"
      ]
     },
     "metadata": {},
     "output_type": "display_data"
    },
    {
     "data": {
      "text/html": [
       "<pre style=\"white-space:pre;overflow-x:auto;line-height:normal;font-family:Menlo,'DejaVu Sans Mono',consolas,'Courier New',monospace\"><span style=\"font-weight: bold\"> Trainable params: </span><span style=\"color: #00af00; text-decoration-color: #00af00\">2,881</span> (11.25 KB)\n",
       "</pre>\n"
      ],
      "text/plain": [
       "\u001b[1m Trainable params: \u001b[0m\u001b[38;5;34m2,881\u001b[0m (11.25 KB)\n"
      ]
     },
     "metadata": {},
     "output_type": "display_data"
    },
    {
     "data": {
      "text/html": [
       "<pre style=\"white-space:pre;overflow-x:auto;line-height:normal;font-family:Menlo,'DejaVu Sans Mono',consolas,'Courier New',monospace\"><span style=\"font-weight: bold\"> Non-trainable params: </span><span style=\"color: #00af00; text-decoration-color: #00af00\">0</span> (0.00 B)\n",
       "</pre>\n"
      ],
      "text/plain": [
       "\u001b[1m Non-trainable params: \u001b[0m\u001b[38;5;34m0\u001b[0m (0.00 B)\n"
      ]
     },
     "metadata": {},
     "output_type": "display_data"
    }
   ],
   "source": [
    "model.summary()\n"
   ]
  },
  {
   "cell_type": "code",
   "execution_count": 38,
   "id": "efdd3ddd-c5d2-4838-8cb0-ffc09b6658a1",
   "metadata": {},
   "outputs": [
    {
     "name": "stdout",
     "output_type": "stream",
     "text": [
      "Epoch 1/50\n",
      "\u001b[1m32/32\u001b[0m \u001b[32m━━━━━━━━━━━━━━━━━━━━\u001b[0m\u001b[37m\u001b[0m \u001b[1m2s\u001b[0m 15ms/step - accuracy: 0.6153 - loss: 0.6603 - val_accuracy: 0.6719 - val_loss: 0.6121\n",
      "Epoch 2/50\n",
      "\u001b[1m32/32\u001b[0m \u001b[32m━━━━━━━━━━━━━━━━━━━━\u001b[0m\u001b[37m\u001b[0m \u001b[1m0s\u001b[0m 6ms/step - accuracy: 0.7522 - loss: 0.5616 - val_accuracy: 0.7266 - val_loss: 0.5679\n",
      "Epoch 3/50\n",
      "\u001b[1m32/32\u001b[0m \u001b[32m━━━━━━━━━━━━━━━━━━━━\u001b[0m\u001b[37m\u001b[0m \u001b[1m0s\u001b[0m 7ms/step - accuracy: 0.7557 - loss: 0.4946 - val_accuracy: 0.7500 - val_loss: 0.5520\n",
      "Epoch 4/50\n",
      "\u001b[1m32/32\u001b[0m \u001b[32m━━━━━━━━━━━━━━━━━━━━\u001b[0m\u001b[37m\u001b[0m \u001b[1m0s\u001b[0m 5ms/step - accuracy: 0.7588 - loss: 0.4947 - val_accuracy: 0.7617 - val_loss: 0.5551\n",
      "Epoch 5/50\n",
      "\u001b[1m32/32\u001b[0m \u001b[32m━━━━━━━━━━━━━━━━━━━━\u001b[0m\u001b[37m\u001b[0m \u001b[1m0s\u001b[0m 5ms/step - accuracy: 0.7629 - loss: 0.5010 - val_accuracy: 0.7656 - val_loss: 0.5515\n",
      "Epoch 6/50\n",
      "\u001b[1m32/32\u001b[0m \u001b[32m━━━━━━━━━━━━━━━━━━━━\u001b[0m\u001b[37m\u001b[0m \u001b[1m0s\u001b[0m 5ms/step - accuracy: 0.7713 - loss: 0.4881 - val_accuracy: 0.7734 - val_loss: 0.5462\n",
      "Epoch 7/50\n",
      "\u001b[1m32/32\u001b[0m \u001b[32m━━━━━━━━━━━━━━━━━━━━\u001b[0m\u001b[37m\u001b[0m \u001b[1m0s\u001b[0m 6ms/step - accuracy: 0.7699 - loss: 0.4884 - val_accuracy: 0.7578 - val_loss: 0.5400\n",
      "Epoch 8/50\n",
      "\u001b[1m32/32\u001b[0m \u001b[32m━━━━━━━━━━━━━━━━━━━━\u001b[0m\u001b[37m\u001b[0m \u001b[1m0s\u001b[0m 5ms/step - accuracy: 0.7457 - loss: 0.5080 - val_accuracy: 0.7695 - val_loss: 0.5535\n",
      "Epoch 9/50\n",
      "\u001b[1m32/32\u001b[0m \u001b[32m━━━━━━━━━━━━━━━━━━━━\u001b[0m\u001b[37m\u001b[0m \u001b[1m0s\u001b[0m 5ms/step - accuracy: 0.7813 - loss: 0.4705 - val_accuracy: 0.7656 - val_loss: 0.5400\n",
      "Epoch 10/50\n",
      "\u001b[1m32/32\u001b[0m \u001b[32m━━━━━━━━━━━━━━━━━━━━\u001b[0m\u001b[37m\u001b[0m \u001b[1m0s\u001b[0m 5ms/step - accuracy: 0.7358 - loss: 0.4996 - val_accuracy: 0.7773 - val_loss: 0.5420\n",
      "Epoch 11/50\n",
      "\u001b[1m32/32\u001b[0m \u001b[32m━━━━━━━━━━━━━━━━━━━━\u001b[0m\u001b[37m\u001b[0m \u001b[1m0s\u001b[0m 5ms/step - accuracy: 0.7729 - loss: 0.4593 - val_accuracy: 0.7734 - val_loss: 0.5410\n",
      "Epoch 12/50\n",
      "\u001b[1m32/32\u001b[0m \u001b[32m━━━━━━━━━━━━━━━━━━━━\u001b[0m\u001b[37m\u001b[0m \u001b[1m0s\u001b[0m 5ms/step - accuracy: 0.7703 - loss: 0.4732 - val_accuracy: 0.7656 - val_loss: 0.5457\n"
     ]
    }
   ],
   "source": [
    "# Fit the model\n",
    "history = model.fit(X_train, y_train, validation_data=(X_val, y_val),\n",
    "                    epochs=50, batch_size=32,\n",
    "                    callbacks=[tensorboard_callback, early_stopping, checkpoint])\n"
   ]
  },
  {
   "cell_type": "code",
   "execution_count": 39,
   "id": "90461412-0645-4f2b-aaa5-3e01ad0855be",
   "metadata": {},
   "outputs": [
    {
     "data": {
      "text/plain": [
       "[array([[ 4.37118448e-02,  2.49173388e-01,  7.32866600e-02,\n",
       "         -3.05646099e-02, -2.11887598e-01, -1.46181405e-01,\n",
       "          1.03540845e-01,  1.30834989e-02, -1.14607520e-01,\n",
       "          9.48740169e-02,  2.70144731e-01, -1.72900379e-01,\n",
       "         -1.29886061e-01,  2.16118857e-01,  5.93080670e-02,\n",
       "          4.71885428e-02, -2.02943042e-01,  6.63668439e-02,\n",
       "          1.95148975e-01,  1.14652492e-01,  1.96784645e-01,\n",
       "          1.90928280e-01,  1.00351557e-01, -1.43241525e-01,\n",
       "         -3.23130041e-02,  2.55337447e-01, -2.20129769e-02,\n",
       "         -3.78275365e-02, -8.41340721e-02, -1.28200138e-02,\n",
       "         -6.30023936e-03,  3.04445196e-02,  7.78405815e-02,\n",
       "         -8.75679255e-02,  1.02855429e-01,  2.32991681e-01,\n",
       "         -1.57901391e-01,  2.94685602e-01,  2.34046578e-01,\n",
       "         -2.32945532e-01,  1.80205435e-01, -2.31093735e-01,\n",
       "         -1.25040084e-01, -1.37957364e-01,  2.00457051e-01,\n",
       "         -9.21944380e-02, -2.19952628e-01, -2.11020708e-01,\n",
       "         -2.72061765e-01,  2.20653892e-01,  1.37763359e-02,\n",
       "          4.29393128e-02, -1.04723424e-01, -1.16909891e-01,\n",
       "          1.81647629e-01,  2.30633333e-01, -4.13072035e-02,\n",
       "         -7.25647658e-02,  7.69460052e-02, -7.96949789e-02,\n",
       "         -9.62319374e-02,  1.56723559e-01, -9.63677913e-02,\n",
       "          2.74264604e-01],\n",
       "        [ 1.35383457e-01,  1.33932382e-01,  1.04912706e-01,\n",
       "         -2.37083718e-01,  2.13297099e-01,  1.86662674e-01,\n",
       "          8.41900706e-02, -9.82909370e-03,  6.28654957e-02,\n",
       "         -5.51168136e-02, -9.03026164e-02,  2.47337624e-01,\n",
       "          2.81171352e-01,  2.54535735e-01,  2.97339056e-02,\n",
       "         -2.86896974e-01, -4.72209901e-02, -2.75153555e-02,\n",
       "         -1.43731637e-02,  1.17941551e-01, -2.09034428e-01,\n",
       "          8.64623040e-02, -2.58114100e-01, -7.48302341e-02,\n",
       "          1.31234050e-01, -1.00112148e-02, -1.92400381e-01,\n",
       "         -2.55905092e-01,  3.37502100e-02,  1.17295861e-01,\n",
       "          1.26274616e-01, -1.63524896e-01,  1.69826061e-01,\n",
       "         -1.79233372e-01, -1.14056043e-01, -1.63387418e-01,\n",
       "          1.58052072e-01, -2.18204975e-01,  5.69579676e-02,\n",
       "          4.02910523e-02, -2.49812543e-01, -9.05409008e-02,\n",
       "          1.99645713e-01,  8.18646476e-02, -1.33008331e-01,\n",
       "         -2.22706944e-02,  1.95082426e-01,  1.35034412e-01,\n",
       "          1.55647948e-01, -2.01345250e-01,  2.10755080e-01,\n",
       "         -6.32748231e-02, -1.03648871e-01,  1.25732748e-02,\n",
       "         -2.03529477e-01,  6.44545481e-02,  8.77686292e-02,\n",
       "          2.70231860e-03, -5.91418184e-02, -2.48373359e-01,\n",
       "         -2.56603748e-01,  1.94224879e-01,  2.41514549e-01,\n",
       "         -1.51640475e-01],\n",
       "        [ 2.26844773e-01, -1.12420000e-01, -4.41944934e-02,\n",
       "         -1.67642951e-01,  1.41075909e-01, -5.56496345e-02,\n",
       "         -3.04249916e-02, -2.60492563e-01,  8.22602361e-02,\n",
       "          1.23870112e-01, -2.13814646e-01,  2.58652508e-01,\n",
       "          2.48794183e-01, -6.71172887e-02,  1.71625286e-01,\n",
       "         -2.31416464e-01, -4.87720370e-02, -2.12475568e-01,\n",
       "          3.00735533e-01, -2.36928254e-01, -2.96113342e-01,\n",
       "          2.08178297e-01,  1.72985762e-01,  2.74319649e-01,\n",
       "          4.71383072e-02, -1.81054041e-01,  2.95848370e-01,\n",
       "         -1.80634320e-01,  1.08670451e-01, -2.07379878e-01,\n",
       "          1.01537280e-01, -1.00845903e-01, -5.05337156e-02,\n",
       "          1.34992644e-01,  1.13474220e-01,  2.04954535e-01,\n",
       "         -3.58195901e-02,  1.99675754e-01, -3.86673473e-02,\n",
       "         -3.43016982e-01, -2.62993038e-01,  2.62110978e-01,\n",
       "          1.01005539e-01, -5.72975725e-02, -1.71631038e-01,\n",
       "         -1.94048762e-01,  2.55540073e-01,  1.74173594e-01,\n",
       "         -5.37409224e-02, -1.92883369e-02,  2.47975826e-01,\n",
       "          1.17371283e-01,  1.92944646e-01,  2.06784055e-01,\n",
       "          2.63381869e-01, -9.93633568e-02, -2.26460993e-01,\n",
       "          1.64727066e-02,  2.10735083e-01, -2.11834997e-01,\n",
       "          2.78013408e-01,  1.99615985e-01, -1.70089439e-01,\n",
       "          7.42569566e-02],\n",
       "        [-8.94925445e-02,  4.37890030e-02,  1.69431448e-01,\n",
       "          2.47679129e-01, -1.60051838e-01,  1.59453183e-01,\n",
       "         -1.22030430e-01, -2.55834788e-01,  2.24439964e-01,\n",
       "          5.72473221e-02, -1.44685254e-01, -1.81430772e-01,\n",
       "          9.96283535e-03,  9.05046426e-03,  1.21720463e-01,\n",
       "         -1.13795608e-01, -2.48819944e-02,  4.26948071e-02,\n",
       "         -2.34023839e-01, -3.27655002e-02,  7.86428973e-02,\n",
       "          1.76744372e-01, -1.13206133e-01,  4.27649245e-02,\n",
       "         -1.63806960e-01, -6.30009547e-02, -8.07699841e-03,\n",
       "         -1.01587377e-01,  1.06774479e-01, -1.56176418e-01,\n",
       "          2.66553015e-01, -2.35762775e-01, -2.94228315e-01,\n",
       "         -1.71003431e-01,  1.74226001e-01,  1.02157556e-01,\n",
       "         -1.58749267e-01,  1.53440207e-01,  2.57966369e-01,\n",
       "         -1.20281480e-01,  2.42571861e-01, -1.67531148e-01,\n",
       "          3.64638492e-02, -1.46716222e-01,  2.01206103e-01,\n",
       "          1.28400490e-01,  1.07226424e-01, -1.14731811e-01,\n",
       "         -6.43294007e-02,  2.85975009e-01,  2.76452433e-02,\n",
       "          4.73910272e-02,  2.84303129e-01,  6.10869788e-02,\n",
       "          9.20630991e-02,  5.71293272e-02,  1.44039333e-01,\n",
       "         -4.73778844e-02,  2.83703282e-02,  1.72880754e-01,\n",
       "         -1.00587383e-01, -2.61664446e-02,  1.33103102e-01,\n",
       "         -8.29956587e-03],\n",
       "        [-2.00900108e-01,  2.71882471e-02,  2.24665120e-01,\n",
       "         -9.62649006e-03,  1.74567655e-01, -1.08283922e-01,\n",
       "          1.16021655e-01,  6.64108098e-02, -2.29866937e-01,\n",
       "         -1.93327501e-01,  9.73080769e-02, -6.05113916e-02,\n",
       "          2.71832168e-01, -2.11968407e-01, -2.38568887e-01,\n",
       "         -7.18291849e-02,  5.16078174e-02, -6.53740438e-03,\n",
       "         -1.60886511e-01,  2.05975711e-01, -2.91269958e-01,\n",
       "          7.05652386e-02,  2.46435627e-01,  2.05086842e-01,\n",
       "          7.28280619e-02,  1.04776770e-02,  1.03221148e-01,\n",
       "         -2.45355397e-01,  1.22600496e-01,  2.48283833e-01,\n",
       "         -1.71594307e-01, -2.11237475e-01, -2.10198671e-01,\n",
       "         -3.28660995e-01, -1.50061175e-01, -7.18691992e-03,\n",
       "          1.90774456e-01, -6.00765347e-02,  3.27111594e-02,\n",
       "         -1.03152998e-01, -1.64164484e-01, -2.17086777e-01,\n",
       "          1.71954945e-01, -3.06750443e-02,  2.35643536e-01,\n",
       "         -1.29444331e-01, -1.54904239e-02, -2.40552470e-01,\n",
       "          4.49631922e-02,  2.92733032e-02,  7.12985126e-03,\n",
       "          2.18890741e-01, -1.45802751e-01,  5.50213754e-02,\n",
       "          1.14682727e-01, -1.69162429e-03,  1.34796858e-01,\n",
       "          1.51957184e-01,  2.12710574e-01,  6.69730231e-02,\n",
       "          2.63947338e-01,  1.53412730e-01, -1.64391529e-02,\n",
       "          2.75778115e-01],\n",
       "        [-1.13271736e-01, -3.64291929e-02, -2.28830785e-01,\n",
       "          7.35282898e-02,  2.59957284e-01,  5.03894314e-02,\n",
       "         -1.03544846e-01, -7.12203234e-02, -2.95848638e-01,\n",
       "         -1.43849820e-01, -2.62085199e-01,  2.81217635e-01,\n",
       "         -2.48482004e-01, -5.19862808e-02,  1.14733197e-01,\n",
       "         -1.72097370e-01, -1.92674622e-01,  2.60133773e-01,\n",
       "         -5.77692408e-03, -2.21090302e-01,  1.77535549e-01,\n",
       "          1.19922496e-02,  1.32774174e-01,  2.96540111e-01,\n",
       "         -1.58878211e-02,  2.33292371e-01, -1.22948967e-01,\n",
       "          1.53959945e-01, -1.83594152e-01, -3.48234959e-02,\n",
       "         -1.76651135e-01,  1.00855246e-01,  4.29255068e-02,\n",
       "          2.58314043e-01, -2.02703446e-01,  1.41598592e-02,\n",
       "          1.51340815e-03,  1.25871226e-01, -1.09467268e-01,\n",
       "          1.33376449e-01, -1.73303172e-01,  1.32179018e-02,\n",
       "         -1.07520975e-01,  5.18498868e-02, -1.36030003e-01,\n",
       "          4.78727147e-02,  1.27952591e-01,  2.28937566e-01,\n",
       "          1.09875992e-01,  8.43312740e-02, -1.46537602e-01,\n",
       "          1.19801775e-01, -5.83996661e-02, -1.17700458e-01,\n",
       "         -4.95807938e-02,  1.14997104e-02,  1.63461626e-01,\n",
       "          1.23355575e-01,  2.58181751e-01, -2.60492593e-01,\n",
       "         -1.07669145e-01, -1.77344352e-01,  1.14002809e-01,\n",
       "          2.59462386e-01],\n",
       "        [-1.47106811e-01, -3.41597572e-02, -2.78489381e-01,\n",
       "          1.26310855e-01,  4.92715761e-02,  1.76913545e-01,\n",
       "          1.68902919e-01, -1.48137078e-01,  1.20660551e-01,\n",
       "          1.51512772e-01, -9.95577574e-02, -3.55906261e-04,\n",
       "         -1.64393380e-01,  2.45325148e-01,  1.59827217e-01,\n",
       "         -3.88073400e-02, -3.10419917e-01,  2.30365456e-03,\n",
       "         -1.83308646e-01, -4.35650125e-02, -2.18950391e-01,\n",
       "         -1.43944006e-02,  8.71357173e-02, -7.92497098e-02,\n",
       "         -8.94564316e-02,  1.36573970e-01,  3.77799459e-02,\n",
       "         -2.13836327e-01,  8.07643831e-02,  3.35750133e-01,\n",
       "         -8.52069408e-02, -2.46108368e-01,  2.90629894e-01,\n",
       "         -1.39687434e-01,  4.73766625e-02, -1.76404938e-01,\n",
       "          1.17612116e-01,  1.43787548e-01,  2.43951663e-01,\n",
       "         -2.74715543e-01, -2.20460564e-01,  3.09290320e-01,\n",
       "          2.74213135e-01,  2.80788630e-01,  1.93246126e-01,\n",
       "         -1.64993122e-01,  9.57183167e-02,  3.07817966e-01,\n",
       "         -1.73491418e-01, -7.31557608e-02,  3.91077474e-02,\n",
       "          5.00392430e-02, -2.68568367e-01,  1.05858512e-01,\n",
       "          1.52056381e-01,  2.17140093e-01, -1.78271294e-01,\n",
       "         -8.19304287e-02,  1.77924365e-01, -1.15301549e-01,\n",
       "         -2.17821628e-01,  1.03391506e-01,  2.61444956e-01,\n",
       "         -1.83324978e-01],\n",
       "        [-3.08458865e-01, -1.02068864e-01,  2.18382344e-01,\n",
       "          1.53466403e-01, -2.81985998e-01,  2.85563469e-01,\n",
       "          1.28538102e-01, -1.21256612e-01,  5.12616672e-02,\n",
       "         -7.45326504e-02,  6.97624162e-02,  1.43447712e-01,\n",
       "         -2.52773345e-01, -4.16983478e-02, -1.44165531e-01,\n",
       "         -5.18105030e-02, -2.16072366e-01,  4.80817072e-02,\n",
       "          2.22886100e-01, -3.61654814e-03, -1.82063758e-01,\n",
       "         -1.51047349e-01, -2.85600781e-01, -2.25742757e-02,\n",
       "          2.38408893e-01, -1.89052358e-01, -6.69225901e-02,\n",
       "         -4.45189662e-02,  4.03024666e-02, -7.14927986e-02,\n",
       "          1.36885747e-01,  2.77836293e-01, -3.02162826e-01,\n",
       "          2.36940652e-01, -1.79197356e-01,  1.27650663e-01,\n",
       "          1.59815609e-01, -2.06034467e-01,  1.74584210e-01,\n",
       "         -1.40599430e-01,  8.33622217e-02,  1.19430289e-01,\n",
       "         -2.24010780e-01,  1.26584813e-01,  1.75291628e-01,\n",
       "          1.20358549e-01,  2.40277305e-01,  1.64287999e-01,\n",
       "         -2.30449393e-01, -1.02796532e-01, -1.89921483e-01,\n",
       "          1.47432879e-01,  3.06085080e-01, -2.09039047e-01,\n",
       "         -1.48650661e-01, -3.26862663e-01,  1.47600114e-01,\n",
       "         -1.13863148e-01, -1.77767247e-01, -1.05304271e-01,\n",
       "         -1.74393579e-01, -7.32940882e-02,  2.69194543e-01,\n",
       "         -2.15773925e-01],\n",
       "        [ 2.57354796e-01, -1.58059031e-01, -6.43978938e-02,\n",
       "          9.55383405e-02,  2.06444919e-01, -1.54786641e-02,\n",
       "          1.48808077e-01,  2.21430033e-01,  1.61890626e-01,\n",
       "         -2.34103993e-01,  6.25776350e-02, -1.56462803e-01,\n",
       "         -3.66004109e-02,  3.05268109e-01,  7.58370385e-03,\n",
       "          2.64588296e-01,  6.35947064e-02, -1.54300090e-02,\n",
       "         -1.31342158e-01, -7.87505582e-02,  2.07958549e-01,\n",
       "          5.19302040e-02, -2.33682379e-01, -2.21157312e-01,\n",
       "         -1.81611761e-01,  1.19634569e-01, -7.15378001e-02,\n",
       "         -9.60348919e-03,  2.16408417e-01, -6.84095100e-02,\n",
       "          1.91544339e-01,  7.44604766e-02,  7.66924247e-02,\n",
       "          8.44701901e-02,  2.93773296e-03, -8.24548826e-02,\n",
       "         -1.76299527e-01, -2.08759964e-01, -1.59149945e-01,\n",
       "         -2.94755429e-01,  3.02656233e-01,  2.85892636e-01,\n",
       "          2.49489561e-01,  2.31228508e-02,  1.60727352e-01,\n",
       "          2.05640972e-01, -1.10663876e-01, -9.20997709e-02,\n",
       "          1.32110655e-01,  2.14857310e-01,  1.63769811e-01,\n",
       "         -2.27402180e-01,  1.13123678e-01, -2.52990484e-01,\n",
       "          1.51630208e-01,  1.05592184e-01,  1.76853791e-01,\n",
       "         -1.56121582e-01, -5.34890220e-02,  4.36321646e-02,\n",
       "          1.23291910e-01, -4.50266451e-02, -2.85869956e-01,\n",
       "          2.30780974e-01],\n",
       "        [-1.56299576e-01, -1.80444404e-01,  2.14740172e-01,\n",
       "         -2.07112193e-01, -6.85469508e-02, -2.74023950e-01,\n",
       "          2.75577530e-02, -5.55020645e-02, -1.49277791e-01,\n",
       "          2.24090725e-01,  2.03307852e-01,  6.30870089e-02,\n",
       "          2.14237481e-01, -2.28061020e-01, -2.05998719e-01,\n",
       "         -1.30654741e-02, -8.52170661e-02, -1.78089634e-01,\n",
       "          2.06974354e-02, -2.77818013e-02,  6.70756474e-02,\n",
       "          3.72830592e-02, -1.90825596e-01, -1.79436103e-01,\n",
       "         -1.65063307e-01,  5.06169908e-02, -7.82553703e-02,\n",
       "          1.09307714e-01,  2.13615522e-01, -1.26631156e-01,\n",
       "         -9.10822377e-02,  9.76938754e-02, -5.20850085e-02,\n",
       "          1.67529181e-01, -3.69208723e-01, -1.52827233e-01,\n",
       "          2.40116373e-01,  5.14317527e-02,  1.46305621e-01,\n",
       "         -8.07592869e-02, -3.21500860e-02, -2.08581224e-01,\n",
       "         -2.41191030e-01, -6.47214577e-02, -1.72601536e-01,\n",
       "         -3.60666239e-03,  2.02472284e-01,  1.38159961e-01,\n",
       "          6.25870526e-02,  1.28339782e-01,  5.52263632e-02,\n",
       "          1.07092625e-02,  2.80046821e-01,  1.04001589e-01,\n",
       "          1.44370660e-01,  3.55021134e-02, -2.69425720e-01,\n",
       "          2.50805944e-01, -1.84925720e-01, -3.56296748e-01,\n",
       "          2.85628438e-01, -1.59710988e-01, -6.49284273e-02,\n",
       "         -1.11341693e-01],\n",
       "        [-1.83879122e-01, -1.85439251e-02,  1.71601489e-01,\n",
       "          2.53856480e-01,  5.24003506e-02, -9.99077223e-03,\n",
       "          3.01794857e-01, -1.24878988e-01, -2.23718077e-01,\n",
       "          2.68670648e-01, -5.38199842e-02, -2.24449635e-01,\n",
       "         -3.27840894e-01, -1.89981863e-01, -5.40183783e-02,\n",
       "          2.49639347e-01,  1.34146154e-01, -1.00637741e-01,\n",
       "          2.98553616e-01,  1.23992823e-01, -6.77000824e-03,\n",
       "          1.33344740e-01,  2.21296772e-01,  1.88165456e-02,\n",
       "         -1.58008739e-01,  2.46999025e-01,  6.11943826e-02,\n",
       "          1.53532386e-01, -2.78625458e-01,  7.83024076e-03,\n",
       "         -8.94417837e-02,  2.93648005e-01, -5.13716321e-03,\n",
       "         -9.07865092e-02, -2.01932028e-01,  9.05850232e-02,\n",
       "          1.56310692e-01, -3.35189626e-02,  2.86818147e-01,\n",
       "          2.43172664e-02,  7.90066645e-02, -5.79732889e-03,\n",
       "          1.59920096e-01, -2.45606393e-01, -5.68769649e-02,\n",
       "          1.37984693e-01, -2.18309239e-01,  2.22563475e-01,\n",
       "          3.35746437e-01,  1.86929598e-01,  6.10449724e-02,\n",
       "         -1.89785317e-01, -1.38736695e-01,  2.14432463e-01,\n",
       "          1.27305105e-01,  3.55043381e-01, -2.66481906e-01,\n",
       "          3.02678406e-01, -3.45002227e-02, -5.08067161e-02,\n",
       "         -1.03244871e-01, -2.17024177e-01,  1.37916219e-03,\n",
       "         -6.51592687e-02]], dtype=float32),\n",
       " array([-0.02122898, -0.03072728,  0.03319101, -0.02894665, -0.02316877,\n",
       "        -0.0016151 , -0.04095965, -0.02710488, -0.02058017,  0.05929527,\n",
       "         0.00942809,  0.03696927,  0.02256241,  0.02117879,  0.02602864,\n",
       "         0.03782835,  0.05211317, -0.01074006,  0.05583372, -0.03512237,\n",
       "         0.02925825, -0.06340511,  0.03106114,  0.03931487,  0.04932252,\n",
       "         0.07673962, -0.00521983, -0.0012348 ,  0.03249406,  0.00768709,\n",
       "         0.03974066,  0.06725759,  0.02389324,  0.00036962,  0.01857024,\n",
       "         0.02137782, -0.06867656,  0.03895642,  0.00436997,  0.05553277,\n",
       "         0.01633236,  0.01152109,  0.01636057,  0.03208747,  0.01473322,\n",
       "        -0.04862786, -0.04504615, -0.01564381,  0.06471164,  0.02613726,\n",
       "        -0.05517219,  0.02934493,  0.01296951,  0.02374459,  0.0061673 ,\n",
       "         0.03019052,  0.01882581,  0.08708761, -0.00180576, -0.00967159,\n",
       "         0.02815206,  0.03387652,  0.02956864,  0.0164758 ], dtype=float32),\n",
       " array([[-0.21439871, -0.13403115, -0.07143846, ..., -0.15632191,\n",
       "          0.14499965, -0.0194172 ],\n",
       "        [-0.23062569, -0.02918442, -0.05042138, ..., -0.01203596,\n",
       "          0.00612713, -0.22825688],\n",
       "        [-0.13808873,  0.17551498, -0.13409239, ...,  0.10012865,\n",
       "          0.04039121, -0.07412872],\n",
       "        ...,\n",
       "        [-0.11955176,  0.0990255 , -0.02156777, ...,  0.2793837 ,\n",
       "         -0.27094847,  0.08135539],\n",
       "        [-0.07993232,  0.02062617, -0.06850304, ...,  0.07909991,\n",
       "          0.19189517,  0.17889984],\n",
       "        [-0.0926568 ,  0.09373254, -0.13811916, ...,  0.16854061,\n",
       "          0.18177316,  0.04201126]], dtype=float32),\n",
       " array([-0.03399343, -0.0360156 ,  0.00354916,  0.03397746,  0.01103104,\n",
       "        -0.01483004,  0.01849749, -0.00646358,  0.04533083,  0.05420918,\n",
       "         0.00475865,  0.05588108,  0.01931231, -0.01016982,  0.01357752,\n",
       "        -0.00613488,  0.05216045, -0.01385471,  0.01799491,  0.00274302,\n",
       "         0.01982035, -0.02493661,  0.0358825 , -0.00738817,  0.03201008,\n",
       "        -0.00259074,  0.02164903,  0.01865247, -0.01175097,  0.01439887,\n",
       "        -0.04071997,  0.01021353], dtype=float32),\n",
       " array([[-0.35960203],\n",
       "        [-0.12382855],\n",
       "        [-0.20865607],\n",
       "        [ 0.21852638],\n",
       "        [ 0.24740322],\n",
       "        [ 0.05549509],\n",
       "        [ 0.41669273],\n",
       "        [-0.3088909 ],\n",
       "        [-0.14067012],\n",
       "        [ 0.1787418 ],\n",
       "        [-0.26730832],\n",
       "        [ 0.12708627],\n",
       "        [-0.16164899],\n",
       "        [ 0.02920862],\n",
       "        [ 0.36916178],\n",
       "        [ 0.13855587],\n",
       "        [-0.34925804],\n",
       "        [ 0.24628308],\n",
       "        [ 0.26357964],\n",
       "        [ 0.10751241],\n",
       "        [-0.4309256 ],\n",
       "        [ 0.26403508],\n",
       "        [ 0.29541937],\n",
       "        [ 0.26940575],\n",
       "        [ 0.42948234],\n",
       "        [ 0.37225056],\n",
       "        [ 0.13242356],\n",
       "        [ 0.28417048],\n",
       "        [ 0.3616424 ],\n",
       "        [-0.14805947],\n",
       "        [ 0.08147327],\n",
       "        [-0.09080607]], dtype=float32),\n",
       " array([-0.01335284], dtype=float32)]"
      ]
     },
     "execution_count": 39,
     "metadata": {},
     "output_type": "execute_result"
    }
   ],
   "source": [
    "model.get_weights()\n"
   ]
  },
  {
   "cell_type": "code",
   "execution_count": 40,
   "id": "09e0f37c-4643-45eb-972e-254c41e20240",
   "metadata": {},
   "outputs": [
    {
     "name": "stdout",
     "output_type": "stream",
     "text": [
      "   accuracy      loss  val_accuracy  val_loss\n",
      "0  0.652004  0.637093      0.671875  0.612085\n",
      "1  0.736070  0.553210      0.726562  0.567887\n",
      "2  0.734115  0.524977      0.750000  0.551987\n",
      "3  0.742913  0.510220      0.761719  0.555085\n",
      "4  0.750733  0.500452      0.765625  0.551547\n"
     ]
    }
   ],
   "source": [
    "history_df = pd.DataFrame(history.history)\n",
    "print(history_df.head())\n"
   ]
  },
  {
   "cell_type": "code",
   "execution_count": 41,
   "id": "cfd4d04e-ccb3-468a-bc0e-d7e59aaa16ca",
   "metadata": {},
   "outputs": [
    {
     "data": {
      "image/png": "[encoded data removed]",
      "text/plain": [
       "<Figure size 432x288 with 1 Axes>"
      ]
     },
     "metadata": {
      "needs_background": "light"
     },
     "output_type": "display_data"
    },
    {
     "data": {
      "image/png": "[encoded data removed]",
      "text/plain": [
       "<Figure size 432x288 with 1 Axes>"
      ]
     },
     "metadata": {
      "needs_background": "light"
     },
     "output_type": "display_data"
    }
   ],
   "source": [
    "import matplotlib.pyplot as plt\n",
    "\n",
    "# Plot accuracy\n",
    "plt.plot(history.history['accuracy'], label='Train Accuracy')\n",
    "plt.plot(history.history['val_accuracy'], label='Validation Accuracy')\n",
    "plt.title('Model Accuracy')\n",
    "plt.xlabel('Epoch')\n",
    "plt.ylabel('Accuracy')\n",
    "plt.legend()\n",
    "plt.show()\n",
    "\n",
    "# Plot loss\n",
    "plt.plot(history.history['loss'], label='Train Loss')\n",
    "plt.plot(history.history['val_loss'], label='Validation Loss')\n",
    "plt.title('Model Loss')\n",
    "plt.xlabel('Epoch')\n",
    "plt.ylabel('Loss')\n",
    "plt.legend()\n",
    "plt.show()\n"
   ]
  },
  {
   "cell_type": "code",
   "execution_count": 42,
   "id": "dbeb189d-d494-44b4-80c4-8083fbb769be",
   "metadata": {},
   "outputs": [
    {
     "name": "stdout",
     "output_type": "stream",
     "text": [
      "\u001b[1m10/10\u001b[0m \u001b[32m━━━━━━━━━━━━━━━━━━━━\u001b[0m\u001b[37m\u001b[0m \u001b[1m0s\u001b[0m 3ms/step - accuracy: 0.7132 - loss: 0.5013\n",
      "Test Loss: 0.5078848600387573\n",
      "Test Accuracy: 0.721875011920929\n"
     ]
    }
   ],
   "source": [
    "test_loss, test_accuracy = model.evaluate(X_test, y_test)\n",
    "print(f\"Test Loss: {test_loss}\")\n",
    "print(f\"Test Accuracy: {test_accuracy}\")\n"
   ]
  },
  {
   "cell_type": "code",
   "execution_count": null,
   "id": "62757ccf-6143-4b89-a6bc-395add9616b4",
   "metadata": {},
   "outputs": [],
   "source": []
  },
  {
   "cell_type": "code",
   "execution_count": null,
   "id": "31b8cc04-d6cd-48cc-89e6-818067ea4ea5",
   "metadata": {},
   "outputs": [],
   "source": []
  },
  {
   "cell_type": "code",
   "execution_count": null,
   "id": "1620c4ad-8de1-4b46-b7ce-b04115d5d596",
   "metadata": {},
   "outputs": [],
   "source": []
  }
 ],
 "metadata": {
  "kernelspec": {
   "display_name": "Python 3 (ipykernel)",
   "language": "python",
   "name": "python3"
  },
  "language_info": {
   "codemirror_mode": {
    "name": "ipython",
    "version": 3
   },
   "file_extension": ".py",
   "mimetype": "text/x-python",
   "name": "python",
   "nbconvert_exporter": "python",
   "pygments_lexer": "ipython3",
   "version": "3.10.2"
  }
 },
 "nbformat": 4,
 "nbformat_minor": 5
}
