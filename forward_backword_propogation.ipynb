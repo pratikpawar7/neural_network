{
 "cells": [
  {
   "cell_type": "code",
   "execution_count": null,
   "id": "0c504a11-4a44-40de-97da-6e92f2ab3b0c",
   "metadata": {},
   "outputs": [],
   "source": [
    "'''\n",
    "Q1. What is the purpose of forward propagation in a neural network?\n",
    "'''\n",
    "\n",
    "Forward propagation is the process of passing input data through the layers of a neural network \n",
    "to produce an output. It is used to compute the predicted output based on the current weights and biases, \n",
    "which is then compared to the actual output to calculate the error or loss.\n",
    "\n",
    "Summary: Forward propagation generates predictions based on the current model parameters."
   ]
  },
  {
   "cell_type": "code",
   "execution_count": null,
   "id": "769c5fd3-eb18-41f5-a212-d9308fb13929",
   "metadata": {},
   "outputs": [],
   "source": [
    "'''\n",
    "Q2. How is forward propagation implemented mathematically in a single-layer feedforward neural network?\n",
    "'''\n",
    "In a single-layer feedforward neural network, forward propagation is mathematically represented as:\n",
    "\n",
    "z=W⋅X+b\n",
    "Where:\n",
    "\n",
    "𝑊\n",
    "        W is the weight matrix,\n",
    "𝑋\n",
    "        X is the input vector,\n",
    "𝑏\n",
    "        b is the bias,\n",
    "𝑧\n",
    "        z is the linear combination.\n",
    "The output is then passed through an activation function \n",
    "\n",
    "y=f(z)\n",
    "Summary: Forward propagation computes the weighted sum of inputs and applies an activation function to produce an output."
   ]
  },
  {
   "cell_type": "code",
   "execution_count": null,
   "id": "c13b14b4-0dd9-4693-8a89-0981bb5bde5a",
   "metadata": {},
   "outputs": [],
   "source": [
    "'''\n",
    "Q3. How are activation functions used during forward propagation?\n",
    "'''\n",
    "\n",
    "Activation functions introduce non-linearity to the network, allowing it to learn and \n",
    "model complex patterns. After computing the weighted sum of inputs in each neuron, \n",
    "the activation function is applied to decide whether the neuron should be activated or not.\n",
    "\n",
    "Examples of common activation functions include ReLU, sigmoid, and tanh.\n",
    "\n",
    "Summary: Activation functions enable the network to model complex, non-linear relationships\n"
   ]
  },
  {
   "cell_type": "code",
   "execution_count": null,
   "id": "937de971-63d5-44d7-a974-cd675835fc4b",
   "metadata": {},
   "outputs": [],
   "source": [
    "'''\n",
    "Q4. What is the role of weights and biases in forward propagation?\n",
    "'''\n",
    "Weights determine the importance of each input feature by controlling how much influence each\n",
    "feature has on the output. Biases allow the model to adjust the output even when all inputs are zero,\n",
    "ensuring flexibility in the learning process.\n"
   ]
  },
  {
   "cell_type": "code",
   "execution_count": null,
   "id": "c33ce964-b6e6-4d95-a68e-18944a2da320",
   "metadata": {},
   "outputs": [],
   "source": [
    "'''\n",
    "Q5. What is the purpose of applying a softmax function in the output layer during forward propagation?\n",
    "'''\n",
    "The softmax function is typically used in the output layer of a neural network for multi-class classification tasks.\n",
    "It converts the raw scores (logits) into probabilities by normalizing the outputs, ensuring that\n",
    "the sum of the output probabilities equals 1. \n",
    "This makes it easier to interpret the model's predictions as class probabilities.\n"
   ]
  },
  {
   "cell_type": "code",
   "execution_count": null,
   "id": "995c1b4e-fd6c-436a-a7c2-2fb6d7f6372e",
   "metadata": {},
   "outputs": [],
   "source": [
    "'''\n",
    "Q6. What is the purpose of backward propagation in a neural network?\n",
    "'''\n",
    "\n",
    "Backward propagation (backpropagation) is used to update the weights and biases in the\n",
    "neural network to minimize the loss function. It involves calculating the gradient of \n",
    "the loss with respect to each weight and bias using the chain rule and then updating the parameters to reduce the loss.\n",
    "\n",
    "    \n",
    "Summary: Backpropagation updates model parameters to reduce the error between predictions and actual outputs.\n"
   ]
  },
  {
   "cell_type": "code",
   "execution_count": null,
   "id": "1cc92974-f437-4807-85d8-389d219c2e30",
   "metadata": {},
   "outputs": [],
   "source": [
    "'''\n",
    "Q8. Can you explain the concept of the chain rule and its application in backward propagation?\n",
    "'''\n",
    "\n",
    "The chain rule is a fundamental concept in calculus used to compute the derivative of a composite function. \n",
    "In backpropagation, the chain rule is applied to calculate the gradient of the loss with respect to each \n",
    "parameter (weight and bias) by breaking down the computation into smaller derivatives.\n"
   ]
  },
  {
   "cell_type": "code",
   "execution_count": null,
   "id": "0c52afd1-2c02-4c54-971d-9d87b2e87d83",
   "metadata": {},
   "outputs": [],
   "source": []
  }
 ],
 "metadata": {
  "kernelspec": {
   "display_name": "Python 3 (ipykernel)",
   "language": "python",
   "name": "python3"
  },
  "language_info": {
   "codemirror_mode": {
    "name": "ipython",
    "version": 3
   },
   "file_extension": ".py",
   "mimetype": "text/x-python",
   "name": "python",
   "nbconvert_exporter": "python",
   "pygments_lexer": "ipython3",
   "version": "3.10.2"
  }
 },
 "nbformat": 4,
 "nbformat_minor": 5
}
